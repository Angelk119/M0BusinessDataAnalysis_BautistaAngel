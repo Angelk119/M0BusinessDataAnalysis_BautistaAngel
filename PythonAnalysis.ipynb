{
 "cells": [
  {
   "cell_type": "code",
   "execution_count": 1,
   "id": "d5a583aa",
   "metadata": {},
   "outputs": [],
   "source": [
    "import pandas as pd"
   ]
  },
  {
   "cell_type": "code",
   "execution_count": 2,
   "id": "6c4e2d01",
   "metadata": {},
   "outputs": [
    {
     "data": {
      "text/plain": [
       "'2.2.3'"
      ]
     },
     "execution_count": 2,
     "metadata": {},
     "output_type": "execute_result"
    }
   ],
   "source": [
    "pd.__version__"
   ]
  },
  {
   "cell_type": "code",
   "execution_count": 14,
   "id": "d6081404",
   "metadata": {},
   "outputs": [
    {
     "name": "stdout",
     "output_type": "stream",
     "text": [
      "      Year                                      Leading Cause Sex  \\\n",
      "0     2014              Malignant Neoplasms (Cancer: C00-C97)   F   \n",
      "1     2014            Influenza (Flu) and Pneumonia (J09-J18)   M   \n",
      "2     2014       Chronic Lower Respiratory Diseases (J40-J47)   M   \n",
      "3     2014                        Diabetes Mellitus (E10-E14)   M   \n",
      "4     2014  Essential Hypertension and Renal Diseases (I10...   F   \n",
      "...    ...                                                ...  ..   \n",
      "1089  2007                          Alzheimer's Disease (G30)   F   \n",
      "1090  2007          Cerebrovascular Disease (Stroke: I60-I69)   M   \n",
      "1091  2007                        Diabetes Mellitus (E10-E14)   F   \n",
      "1092  2007                 Assault (Homicide: Y87.1, X85-Y09)   M   \n",
      "1093  2007            Influenza (Flu) and Pneumonia (J09-J18)   M   \n",
      "\n",
      "                  Race Ethnicity Deaths Death Rate Age Adjusted Death Rate  \n",
      "0             Black Non-Hispanic   1852      176.5                   148.4  \n",
      "1                       Hispanic    199       16.7                    26.6  \n",
      "2     Asian and Pacific Islander     95       16.6                    22.9  \n",
      "3     Asian and Pacific Islander     71       12.4                    14.2  \n",
      "4                       Hispanic    116        9.2                    10.1  \n",
      "...                          ...    ...        ...                     ...  \n",
      "1089          Not Stated/Unknown      .          .                       .  \n",
      "1090       Other Race/ Ethnicity      7          .                       .  \n",
      "1091          Black Non-Hispanic    358         34                    32.5  \n",
      "1092          Not Stated/Unknown      .          .                       .  \n",
      "1093          Black Non-Hispanic    229       26.9                    40.1  \n",
      "\n",
      "[1094 rows x 7 columns]\n"
     ]
    }
   ],
   "source": [
    "df = pd.read_excel(\"Data/Analysis.xlsx\")\n",
    "print(df)"
   ]
  },
  {
   "cell_type": "code",
   "execution_count": 13,
   "id": "a81cb410",
   "metadata": {},
   "outputs": [
    {
     "name": "stdout",
     "output_type": "stream",
     "text": [
      "   Year                                      Leading Cause Sex  \\\n",
      "0  2014              Malignant Neoplasms (Cancer: C00-C97)   F   \n",
      "1  2014            Influenza (Flu) and Pneumonia (J09-J18)   M   \n",
      "2  2014       Chronic Lower Respiratory Diseases (J40-J47)   M   \n",
      "3  2014                        Diabetes Mellitus (E10-E14)   M   \n",
      "4  2014  Essential Hypertension and Renal Diseases (I10...   F   \n",
      "\n",
      "               Race Ethnicity Deaths Death Rate Age Adjusted Death Rate  \n",
      "0          Black Non-Hispanic   1852      176.5                   148.4  \n",
      "1                    Hispanic    199       16.7                    26.6  \n",
      "2  Asian and Pacific Islander     95       16.6                    22.9  \n",
      "3  Asian and Pacific Islander     71       12.4                    14.2  \n",
      "4                    Hispanic    116        9.2                    10.1  \n"
     ]
    }
   ],
   "source": [
    "print(df.head())"
   ]
  },
  {
   "cell_type": "code",
   "execution_count": 20,
   "id": "2b9b3b1e",
   "metadata": {},
   "outputs": [
    {
     "name": "stdout",
     "output_type": "stream",
     "text": [
      "     Year                                    Leading Cause Sex  \\\n",
      "23   2014  Intentional Self-Harm (Suicide: X60-X84, Y87.0)   F   \n",
      "90   2014  Intentional Self-Harm (Suicide: X60-X84, Y87.0)   M   \n",
      "91   2014  Intentional Self-Harm (Suicide: X60-X84, Y87.0)   M   \n",
      "106  2014  Intentional Self-Harm (Suicide: X60-X84, Y87.0)   F   \n",
      "148  2013  Intentional Self-Harm (Suicide: X60-X84, Y87.0)   M   \n",
      "\n",
      "                 Race Ethnicity Deaths Death Rate Age Adjusted Death Rate  \n",
      "23   Asian and Pacific Islander     28        4.5                     4.2  \n",
      "90   Asian and Pacific Islander     50        8.7                     8.7  \n",
      "91           White Non-Hispanic    204       15.2                    13.4  \n",
      "106       Other Race/ Ethnicity      5          .                       .  \n",
      "148       Other Race/ Ethnicity      6          .                       .  \n"
     ]
    }
   ],
   "source": [
    "causedeath = df[(df['Leading Cause'] == 'Intentional Self-Harm (Suicide: X60-X84, Y87.0)')]\n",
    "print(causedeath.head(5))"
   ]
  },
  {
   "cell_type": "code",
   "execution_count": 21,
   "id": "58e12ce8",
   "metadata": {},
   "outputs": [
    {
     "name": "stdout",
     "output_type": "stream",
     "text": [
      "<class 'pandas.core.frame.DataFrame'>\n"
     ]
    }
   ],
   "source": [
    "print(type(causedeath))"
   ]
  }
 ],
 "metadata": {
  "kernelspec": {
   "display_name": "data-analysis-env",
   "language": "python",
   "name": "python3"
  },
  "language_info": {
   "codemirror_mode": {
    "name": "ipython",
    "version": 3
   },
   "file_extension": ".py",
   "mimetype": "text/x-python",
   "name": "python",
   "nbconvert_exporter": "python",
   "pygments_lexer": "ipython3",
   "version": "3.9.22"
  }
 },
 "nbformat": 4,
 "nbformat_minor": 5
}
